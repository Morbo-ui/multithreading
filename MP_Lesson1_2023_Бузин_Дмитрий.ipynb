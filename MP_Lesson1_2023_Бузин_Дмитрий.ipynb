{
 "cells": [
  {
   "cell_type": "markdown",
   "metadata": {
    "id": "1NHMOil6azxL"
   },
   "source": [
    "**Упражнение 1.**\n",
    "Перед вами фрагмент кода, содержащего некоторую проблему. Всегда ли counter = 10 после запуска программы?"
   ]
  },
  {
   "cell_type": "code",
   "execution_count": 17,
   "metadata": {
    "colab": {
     "base_uri": "https://localhost:8080/"
    },
    "id": "TxjKFX_rbBaU",
    "outputId": "a4e446cf-894f-49af-f9de-9ef90479b11a"
   },
   "outputs": [
    {
     "name": "stdout",
     "output_type": "stream",
     "text": [
      "1 2 3 4 5 6 7 8 9 10 10\n"
     ]
    }
   ],
   "source": [
    "import threading\n",
    "import sys\n",
    "\n",
    "def thread_job():\n",
    "    global counter\n",
    "    old_counter = counter\n",
    "    counter = old_counter + 1\n",
    "    print('{} '.format(counter), end='')\n",
    "    sys.stdout.flush()\n",
    "\n",
    "\n",
    "counter = 0\n",
    "threads = [threading.Thread(target=thread_job) for _ in range(10)]\n",
    "for thread in threads:\n",
    "    thread.start()\n",
    "for thread in threads:\n",
    "    thread.join()\n",
    "print(counter)"
   ]
  },
  {
   "cell_type": "markdown",
   "metadata": {
    "id": "QYaijEZwbH-r"
   },
   "source": [
    "Для наглядности продемонстрируем \"проблему\""
   ]
  },
  {
   "cell_type": "code",
   "execution_count": 17,
   "metadata": {
    "colab": {
     "base_uri": "https://localhost:8080/"
    },
    "id": "pHor5lo3bByf",
    "outputId": "79e014ed-437b-4928-e9b8-3d2c17d9926b"
   },
   "outputs": [
    {
     "name": "stdout",
     "output_type": "stream",
     "text": [
      "1 2 3 4 1 1 4 4 5 5 5\n"
     ]
    }
   ],
   "source": [
    "import threading\n",
    "import random\n",
    "import time\n",
    "import sys\n",
    "\n",
    "def thread_job():\n",
    "    global counter\n",
    "    old_counter = counter\n",
    "    time.sleep(random.randint(0, 1))\n",
    "    counter = old_counter + 1\n",
    "    print('{} '.format(counter), end='')\n",
    "    sys.stdout.flush()\n",
    "\n",
    "\n",
    "counter = 0\n",
    "threads = [threading.Thread(target=thread_job) for _ in range(10)]\n",
    "for thread in threads:\n",
    "    thread.start()\n",
    "for thread in threads:\n",
    "    thread.join()\n",
    "print(counter)"
   ]
  },
  {
   "cell_type": "markdown",
   "metadata": {
    "id": "4clHV29vbNly"
   },
   "source": [
    "**Объясните почему так происходит?**\n",
    "Несколько потоков могут одновременно выполнять функцию thread_job() и пытаться изменить значение глобальной переменной counter, что может привести к непредсказуемым результатам. Например, если два потока одновременно прочитают значение counter, сохранят его в old_counter, а затем увеличат на 1 и присвоят новое значение counter, то только один из них фактически увеличит counter на 1, а второй поток потеряет свои изменения.\n",
    "Для избежания race condition в этом коде можно использовать блокировку, чтобы гарантировать, что только один поток может изменять значение counter в данный момент времени."
   ]
  },
  {
   "cell_type": "markdown",
   "metadata": {
    "id": "VU5ES-s0bQIh"
   },
   "source": [
    "**Исправьте проблему.**\n"
   ]
  },
  {
   "cell_type": "code",
   "execution_count": null,
   "metadata": {
    "colab": {
     "base_uri": "https://localhost:8080/"
    },
    "id": "OFEwqZbTLygK",
    "outputId": "897170a0-1708-4551-8cab-8e6748680742"
   },
   "outputs": [],
   "source": [
    "\n",
    "import threading\n",
    "import random\n",
    "import time\n",
    "import sys\n",
    "\n",
    "def thread_job():\n",
    "    global counter\n",
    "    lock.acquire()\n",
    "    old_counter = counter\n",
    "    time.sleep(random.randint(0, 1))\n",
    "    counter = old_counter + 1\n",
    "    print('{} '.format(counter), end='')\n",
    "    lock.release()\n",
    "    sys.stdout.flush()\n",
    "\n",
    "counter = 0\n",
    "lock = Lock()\n",
    "threads = [threading.Thread(target=thread_job) for _ in range(10)]\n",
    "\n",
    "\n",
    "for thread in threads:\n",
    "    thread.start()\n",
    "    \n",
    "    \n",
    "for thread in threads:\n",
    "    thread.join()\n",
    "print(counter)"
   ]
  },
  {
   "cell_type": "markdown",
   "metadata": {
    "id": "BuCnLYuMbTmq"
   },
   "source": [
    "**Упражнение 2.**\n",
    "Программист хочет узнать доступность набора ip адресов. Он реализовал программу. Почему она неэффективна? Переделайте с использованием threading. Измерить время с применением потоков и без них. Объяснить результат."
   ]
  },
  {
   "cell_type": "code",
   "execution_count": 16,
   "metadata": {
    "colab": {
     "base_uri": "https://localhost:8080/"
    },
    "id": "iZ5evZ6blYZo",
    "outputId": "de4e8256-54d8-49f9-c669-b43dda64d5c7"
   },
   "outputs": [
    {
     "name": "stdout",
     "output_type": "stream",
     "text": [
      "Status:  192.168.178.0 None\n",
      "Status:  192.168.178.1 None\n",
      "Status:  192.168.178.2 None\n",
      "Status:  192.168.178.3 None\n",
      "Status:  192.168.178.4 None\n",
      "Status:  192.168.178.5 None\n",
      "Status:  192.168.178.6 None\n",
      "Status:  192.168.178.7 None\n",
      "Status:  192.168.178.8 None\n",
      "Status:  192.168.178.9 None\n",
      "Status:  192.168.178.10 None\n",
      "Status:  192.168.178.11 None\n",
      "Status:  192.168.178.12 None\n",
      "Status:  192.168.178.13 None\n",
      "Status:  192.168.178.14 None\n",
      "Status:  192.168.178.15 None\n",
      "Status:  192.168.178.16 None\n",
      "Status:  192.168.178.17 None\n",
      "Status:  192.168.178.18 None\n",
      "Status:  192.168.178.19 None\n",
      "Status:  192.168.178.20 None\n",
      "Status:  192.168.178.21 None\n",
      "Status:  192.168.178.22 None\n",
      "Status:  192.168.178.23 None\n",
      "Status:  192.168.178.24 None\n",
      "Status:  192.168.178.25 None\n",
      "Status:  192.168.178.26 None\n",
      "Status:  192.168.178.27 None\n",
      "Status:  192.168.178.28 None\n",
      "Status:  192.168.178.29 None\n",
      "Status:  192.168.178.30 None\n",
      "Status:  192.168.178.31 None\n",
      "Status:  192.168.178.32 None\n",
      "Status:  192.168.178.33 None\n",
      "Status:  192.168.178.34 None\n",
      "Status:  192.168.178.35 None\n",
      "Status:  192.168.178.36 None\n",
      "Status:  192.168.178.37 None\n",
      "Status:  192.168.178.38 None\n",
      "Status:  192.168.178.39 None\n",
      "Status:  192.168.178.40 None\n",
      "Status:  192.168.178.41 None\n",
      "Status:  192.168.178.42 None\n",
      "Status:  192.168.178.43 None\n",
      "Status:  192.168.178.44 None\n",
      "Status:  192.168.178.45 None\n",
      "Status:  192.168.178.46 None\n",
      "Status:  192.168.178.47 None\n",
      "Status:  192.168.178.48 None\n",
      "Status:  192.168.178.49 None\n",
      "Status:  192.168.178.50 None\n",
      "Status:  192.168.178.51 None\n",
      "Status:  192.168.178.52 None\n",
      "Status:  192.168.178.53 None\n",
      "Status:  192.168.178.54 None\n",
      "Status:  192.168.178.55 None\n",
      "Status:  192.168.178.56 None\n",
      "Status:  192.168.178.57 None\n",
      "Status:  192.168.178.58 None\n",
      "Status:  192.168.178.59 None\n",
      "Status:  192.168.178.60 None\n",
      "Status:  192.168.178.61 None\n",
      "Status:  192.168.178.62 None\n",
      "Status:  192.168.178.63 None\n",
      "Status:  192.168.178.64 None\n",
      "Status:  192.168.178.65 None\n",
      "Status:  192.168.178.66 None\n",
      "Status:  192.168.178.67 None\n",
      "Status:  192.168.178.68 None\n",
      "Status:  192.168.178.69 None\n",
      "Status:  192.168.178.70 None\n",
      "Status:  192.168.178.71 None\n",
      "Status:  192.168.178.72 None\n",
      "Status:  192.168.178.73 None\n",
      "Status:  192.168.178.74 None\n",
      "Status:  192.168.178.75 None\n",
      "Status:  192.168.178.76 None\n",
      "Status:  192.168.178.77 None\n",
      "Status:  192.168.178.78 None\n",
      "Status:  192.168.178.79 None\n",
      "Status:  192.168.178.80 None\n",
      "Status:  192.168.178.81 None\n",
      "Status:  192.168.178.82 None\n",
      "Status:  192.168.178.83 None\n",
      "Status:  192.168.178.84 None\n",
      "Status:  192.168.178.85 None\n",
      "Status:  192.168.178.86 None\n",
      "Status:  192.168.178.87 None\n",
      "Status:  192.168.178.88 None\n",
      "Status:  192.168.178.89 None\n",
      "Status:  192.168.178.90 None\n",
      "Status:  192.168.178.91 None\n",
      "Status:  192.168.178.92 None\n",
      "Status:  192.168.178.93 None\n",
      "Status:  192.168.178.94 None\n",
      "Status:  192.168.178.95 None\n",
      "Status:  192.168.178.96 None\n",
      "Status:  192.168.178.97 None\n",
      "Status:  192.168.178.98 None\n",
      "Status:  192.168.178.99 None\n",
      "time:  1203.8706438541412\n"
     ]
    }
   ],
   "source": [
    "import os, re\n",
    "import time\n",
    "\n",
    "received_packages = re.compile(r\"(\\d) received\")\n",
    "\n",
    "def status(x):\n",
    "    if x == 0:\n",
    "        return \"no response\"\n",
    "    elif x == 1:\n",
    "        return \"losses\"\n",
    "    elif x == 2:\n",
    "        return \"alive\"\n",
    "\n",
    "time0 = time.time()\n",
    "\n",
    "for suffix in range(0, 100):\n",
    "    ip = \"192.168.178.\" + str(suffix)\n",
    "    ping_out = os.popen(\"ping -q -c2 \" + ip, \"r\")  # получение вердикта\n",
    "    #print(\"... pinging \", ip)\n",
    "    while True:\n",
    "        line = ping_out.readline()\n",
    "        if not line:\n",
    "            break\n",
    "        n_received = received_packages.findall(line)\n",
    "        #if n_received:\n",
    "    print(\"Status: \", ip, status(-1))\n",
    "\n",
    "print(f\"time: \", time.time() - time0)"
   ]
  },
  {
   "cell_type": "code",
   "execution_count": null,
   "metadata": {},
   "outputs": [],
   "source": [
    "time:  6256.88433098793"
   ]
  },
  {
   "cell_type": "code",
   "execution_count": null,
   "metadata": {},
   "outputs": [],
   "source": [
    "import os\n",
    "import re\n",
    "import threading\n",
    "import time\n",
    "\n",
    "received_packages = re.compile(r\"(\\d) received\")\n",
    "\n",
    "def status(n_received):\n",
    "    if n_received == 0:\n",
    "        return \"no response\"\n",
    "    elif n_received == 1:\n",
    "        return \"losses\"\n",
    "    else:\n",
    "        return \"alive\"\n",
    "\n",
    "def ping_ip(ip):\n",
    "    ping_out = os.popen(\"ping -q -c2 \" + ip, \"r\")\n",
    "    while True:\n",
    "        line = ping_out.readline()\n",
    "        if not line:\n",
    "            break\n",
    "        n_received = received_packages.findall(line)\n",
    "        if n_received:\n",
    "            print(\"Status: \", ip, status(int(n_received[0])))\n",
    "\n",
    "time0 = time.time()\n",
    "\n",
    "threads = []\n",
    "for suffix in range(0, 100):\n",
    "    ip = \"192.168.178.\" + str(suffix)\n",
    "    print(\"... pinging \", ip)\n",
    "    thread = threading.Thread(target=ping_ip, args=(ip,))\n",
    "    threads.append(thread)\n",
    "    thread.start()\n",
    "\n",
    "for thread in threads:\n",
    "    thread.join()\n",
    "\n",
    "print(f\"time: {time.time() - time0}\")\n"
   ]
  },
  {
   "cell_type": "code",
   "execution_count": null,
   "metadata": {},
   "outputs": [],
   "source": [
    "time: 12.137522220611572"
   ]
  },
  {
   "cell_type": "markdown",
   "metadata": {
    "id": "IvuAGiNw_9LK"
   },
   "source": [
    "**Объясните:**\n",
    "Код, который использует threading, работает быстрее за, потому что он позволяет одновременно проверять несколько IP-адресов, тогда как оригинальный код проверяет каждый IP-адрес последовательно.\n",
    "Когда оригинальный код проверяет IP-адрес, он ждет ответа на пинг перед переходом к следующему IP-адресу. Это означает, что если один IP-адрес долго не отвечает, весь процесс программы будет задержан. В отличие от этого, код, который использует threading, создает отдельный поток для проверки каждого IP-адреса, так что программа может продолжать проверку других IP-адресов в ожидании ответа от одного IP-адреса."
   ]
  },
  {
   "cell_type": "markdown",
   "metadata": {
    "id": "HpGKbeuabwEa"
   },
   "source": [
    "**Упражнение 3.**\n",
    "Составить программу, которая считает сумму элементов массива (создать из K значений и заполнить случайным образом) с использованием N потоков. Запустить с разным параметром N (2, 4, 8, 16, 32, 64). Объяснить результат (потребуется измерить время)."
   ]
  },
  {
   "cell_type": "code",
   "execution_count": null,
   "metadata": {},
   "outputs": [],
   "source": [
    "\n",
    "from threading import Thread\n",
    "import random\n",
    "import time\n",
    "\n",
    "K = 1000\n",
    "N = 4\n",
    "\n",
    "arr = [random.randint(0, 100) for _ in range(K)]\n",
    "sum_arr = [0 for _ in range(N)]\n",
    "total = 0\n",
    "\n",
    "\n",
    "def sum_array(array):\n",
    "    global total\n",
    "    for element in array:\n",
    "        total += element\n",
    "    return total\n",
    "\n",
    "\n",
    "thread = list(range(N))\n",
    "\n",
    "time_0 = time.time()\n",
    "for i in range(N):\n",
    "    thread[i] = Thread(target=sum_array, args=(arr,))\n",
    "    thread[i].start()\n",
    "\n",
    "for i in range(N):\n",
    "    thread[i].join()\n",
    "\n",
    "print(\"Sum is %d\" % total)\n",
    "print(time.time() - time_0)\n"
   ]
  },
  {
   "cell_type": "markdown",
   "metadata": {},
   "source": [
    "Этот код неэффективен, потому что он использует глобальную переменную \"total\" для хранения суммы элементов массива. Каждый поток увеличивает эту переменную, что может привести к гонкам данных и непредсказуемым результатам. Кроме того, в каждом потоке выполняется одинаковый код, что приводит к избыточному использованию ресурсов процессора. С увелечением количества потоков время исполнения только увеличивается при N = 4 время выполнения составляет 0.0005109310150146484, при N = 8 время выполнения 0.0009770393371582031, при N = 64 время выполнения равно 0.006939888000488281. Лучше разделить массив на части и передавать каждому потоку свою часть для вычисления суммы. "
   ]
  },
  {
   "cell_type": "markdown",
   "metadata": {
    "id": "H_9uv_OocG_e"
   },
   "source": [
    "**Упражнение 4.** Запустите на исполнение следующий фрагмент кода, замерив время работы. Перепишите с помощью потоков и опять замерьте время. Объясните результат."
   ]
  },
  {
   "cell_type": "code",
   "execution_count": 21,
   "metadata": {
    "colab": {
     "base_uri": "https://localhost:8080/"
    },
    "id": "6AlJ7e7zbcW3",
    "outputId": "e4eb75c8-76e8-4d46-abfc-6b1491a992e1"
   },
   "outputs": [
    {
     "name": "stdout",
     "output_type": "stream",
     "text": [
      "3.455579996109009\n"
     ]
    }
   ],
   "source": [
    "import urllib.request\n",
    "import time\n",
    "\n",
    "\n",
    "urls = [\n",
    "    'https://www.yandex.ru', 'https://www.google.com',\n",
    "    'https://habrahabr.ru', 'https://www.python.org',\n",
    "    'https://isocpp.org',\n",
    "]\n",
    "\n",
    "\n",
    "def read_url(url):\n",
    "    with urllib.request.urlopen(url) as u:\n",
    "        return u.read()\n",
    "\n",
    "\n",
    "start = time.time()\n",
    "for url in urls:\n",
    "    read_url(url)\n",
    "print(time.time() - start)"
   ]
  },
  {
   "cell_type": "code",
   "execution_count": null,
   "metadata": {},
   "outputs": [],
   "source": [
    "time = 2.576047897338867"
   ]
  },
  {
   "cell_type": "code",
   "execution_count": null,
   "metadata": {},
   "outputs": [],
   "source": [
    "import urllib.request\n",
    "import time\n",
    "import threading\n",
    "\n",
    "\n",
    "urls = [\n",
    "    'https://www.yandex.ru', 'https://www.google.com',\n",
    "    'https://habrahabr.ru', 'https://www.python.org',\n",
    "    'https://isocpp.org',\n",
    "]\n",
    "\n",
    "\n",
    "def read_url(url):\n",
    "    with urllib.request.urlopen(url) as u:\n",
    "        return u.read()\n",
    "\n",
    "\n",
    "start = time.time()\n",
    "threads = []\n",
    "for url in urls:\n",
    "    x = threading.Thread(target = read_url, args =(url,))\n",
    "    threads.append(x)\n",
    "    x.start()\n",
    "\n",
    "for thread in threads:\n",
    "    thread.join()\n",
    "    \n",
    "print(time.time() - start)"
   ]
  },
  {
   "cell_type": "code",
   "execution_count": null,
   "metadata": {},
   "outputs": [],
   "source": [
    "time = 0.009363889694213867"
   ]
  },
  {
   "cell_type": "markdown",
   "metadata": {
    "id": "amwNdaOZcX_Y"
   },
   "source": [
    "**Упражнение 5.**\n",
    "Составить программу, которая имеет общие ресурсы для нескольких потоков. Например, есть общая переменная, один поток добавляет 1, второй увеличивает значение в 2 раза. Написать с использованием Lock. Продемонстрировать проблему взаимной блокировки. Исправить её, написав код с использованием RLock блокировки."
   ]
  },
  {
   "cell_type": "code",
   "execution_count": null,
   "metadata": {},
   "outputs": [],
   "source": [
    "import threading\n",
    "\n",
    "shared_resource = 0\n",
    "\n",
    "lock = threading.Lock()\n",
    "\n",
    "\n",
    "def increment_shared_resource():\n",
    "    with lock:\n",
    "        print(f\"Thread {threading.current_thread().name} acquired the lock\")\n",
    "        global shared_resource\n",
    "        shared_resource += 1\n",
    "        print(f\"Thread {threading.current_thread().name} incremented the shared resource to {shared_resource}\")\n",
    "        multiply_shared_resource()\n",
    "\n",
    "\n",
    "def multiply_shared_resource():\n",
    "    with lock:\n",
    "        print(f\"Thread {threading.current_thread().name} acquired the lock again\")\n",
    "        global shared_resource\n",
    "        shared_resource *= 2\n",
    "        print(f\"Thread {threading.current_thread().name} multiplied the shared resource to {shared_resource}\")\n",
    "\n",
    "\n",
    "t1 = threading.Thread(target=increment_shared_resource, name='Thread 1')\n",
    "t2 = threading.Thread(target=multiply_shared_resource, name='Thread 2')\n",
    "\n",
    "t1.start()\n",
    "t2.start()\n",
    "\n",
    "t1.join()\n",
    "t2.join()\n",
    "\n",
    "print(f\"The final value of the shared resource is {shared_resource}\")\n"
   ]
  },
  {
   "cell_type": "code",
   "execution_count": null,
   "metadata": {},
   "outputs": [],
   "source": [
    "import threading\n",
    "\n",
    "shared_resource = 0\n",
    "\n",
    "lock = threading.RLock()\n",
    "\n",
    "\n",
    "def increment_shared_resource():\n",
    "    with lock:\n",
    "        print(f\"Thread {threading.current_thread().name} acquired the lock\")\n",
    "        global shared_resource\n",
    "        shared_resource += 1\n",
    "        print(f\"Thread {threading.current_thread().name} incremented the shared resource to {shared_resource}\")\n",
    "        multiply_shared_resource()\n",
    "\n",
    "\n",
    "def multiply_shared_resource():\n",
    "    with lock:\n",
    "        print(f\"Thread {threading.current_thread().name} acquired the lock again\")\n",
    "        global shared_resource\n",
    "        shared_resource *= 2\n",
    "        print(f\"Thread {threading.current_thread().name} multiplied the shared resource to {shared_resource}\")\n",
    "\n",
    "\n",
    "t1 = threading.Thread(target=increment_shared_resource, name='Thread 1')\n",
    "t2 = threading.Thread(target=multiply_shared_resource, name='Thread 2')\n",
    "\n",
    "t1.start()\n",
    "t2.start()\n",
    "\n",
    "t1.join()\n",
    "t2.join()\n",
    "\n",
    "print(f\"The final value of the shared resource is {shared_resource}\")\n"
   ]
  },
  {
   "cell_type": "markdown",
   "metadata": {},
   "source": [
    "В этом примере мы создаем общий ресурс (переменную с именем shared_resource) и затем создаем объект RLock с именем lock. Мы определяем две функции, которые обращаются к общему ресурсу (increment_shared_resource и multiply_shared_resource) и оборачиваем каждую функцию в блок with lock:, чтобы гарантировать, что только один поток может обращаться к общему ресурсу в любой момент времени. Мы используем RLock вместо обычного Lock, потому что функция multiply_shared_resource вызывает функцию increment_shared_resource, и мы хотим позволить потоку многократно получать блокировку, не блокируя себя. В первом примере мы использовали обычный Lock и функция multiply_shared_resource заблокировала  себя при попытке повторно получить блокировку, что привело к взаимной блокировке (deadlock)."
   ]
  }
 ],
 "metadata": {
  "colab": {
   "provenance": []
  },
  "kernelspec": {
   "display_name": "Python 3 (ipykernel)",
   "language": "python",
   "name": "python3"
  },
  "language_info": {
   "codemirror_mode": {
    "name": "ipython",
    "version": 3
   },
   "file_extension": ".py",
   "mimetype": "text/x-python",
   "name": "python",
   "nbconvert_exporter": "python",
   "pygments_lexer": "ipython3",
   "version": "3.10.9"
  }
 },
 "nbformat": 4,
 "nbformat_minor": 1
}
