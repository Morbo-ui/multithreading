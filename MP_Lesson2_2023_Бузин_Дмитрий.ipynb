{
 "cells": [
  {
   "cell_type": "markdown",
   "metadata": {
    "id": "CwLUwf40bp0N"
   },
   "source": [
    "**Упражнение 1.** Запустите код. Попробуйте объяснить, почему LIST - пуст."
   ]
  },
  {
   "cell_type": "code",
   "execution_count": 1,
   "metadata": {
    "colab": {
     "base_uri": "https://localhost:8080/"
    },
    "id": "SqJJ3y7iPq41",
    "outputId": "55d7bf71-049f-499a-9466-40ecff4553cc"
   },
   "outputs": [
    {
     "name": "stdout",
     "output_type": "stream",
     "text": [
      "[]\n"
     ]
    },
    {
     "name": "stderr",
     "output_type": "stream",
     "text": [
      "Traceback (most recent call last):\n",
      "  File \"<string>\", line 1, in <module>\n",
      "  File \"/opt/homebrew/Cellar/python@3.10/3.10.9/Frameworks/Python.framework/Versions/3.10/lib/python3.10/multiprocessing/spawn.py\", line 116, in spawn_main\n",
      "    exitcode = _main(fd, parent_sentinel)\n",
      "  File \"/opt/homebrew/Cellar/python@3.10/3.10.9/Frameworks/Python.framework/Versions/3.10/lib/python3.10/multiprocessing/spawn.py\", line 126, in _main\n",
      "    self = reduction.pickle.load(from_parent)\n",
      "AttributeError: Can't get attribute 'worker' on <module '__main__' (built-in)>\n",
      "Traceback (most recent call last):\n",
      "  File \"<string>\", line 1, in <module>\n",
      "  File \"/opt/homebrew/Cellar/python@3.10/3.10.9/Frameworks/Python.framework/Versions/3.10/lib/python3.10/multiprocessing/spawn.py\", line 116, in spawn_main\n",
      "    exitcode = _main(fd, parent_sentinel)\n",
      "  File \"/opt/homebrew/Cellar/python@3.10/3.10.9/Frameworks/Python.framework/Versions/3.10/lib/python3.10/multiprocessing/spawn.py\", line 126, in _main\n",
      "    self = reduction.pickle.load(from_parent)\n",
      "AttributeError: Can't get attribute 'worker' on <module '__main__' (built-in)>\n",
      "Traceback (most recent call last):\n",
      "  File \"<string>\", line 1, in <module>\n",
      "  File \"/opt/homebrew/Cellar/python@3.10/3.10.9/Frameworks/Python.framework/Versions/3.10/lib/python3.10/multiprocessing/spawn.py\", line 116, in spawn_main\n",
      "    exitcode = _main(fd, parent_sentinel)\n",
      "  File \"/opt/homebrew/Cellar/python@3.10/3.10.9/Frameworks/Python.framework/Versions/3.10/lib/python3.10/multiprocessing/spawn.py\", line 126, in _main\n",
      "    self = reduction.pickle.load(from_parent)\n",
      "AttributeError: Can't get attribute 'worker' on <module '__main__' (built-in)>\n",
      "Traceback (most recent call last):\n",
      "  File \"<string>\", line 1, in <module>\n",
      "  File \"/opt/homebrew/Cellar/python@3.10/3.10.9/Frameworks/Python.framework/Versions/3.10/lib/python3.10/multiprocessing/spawn.py\", line 116, in spawn_main\n",
      "    exitcode = _main(fd, parent_sentinel)\n",
      "  File \"/opt/homebrew/Cellar/python@3.10/3.10.9/Frameworks/Python.framework/Versions/3.10/lib/python3.10/multiprocessing/spawn.py\", line 126, in _main\n",
      "    self = reduction.pickle.load(from_parent)\n",
      "AttributeError: Can't get attribute 'worker' on <module '__main__' (built-in)>\n",
      "Traceback (most recent call last):\n",
      "  File \"<string>\", line 1, in <module>\n",
      "  File \"/opt/homebrew/Cellar/python@3.10/3.10.9/Frameworks/Python.framework/Versions/3.10/lib/python3.10/multiprocessing/spawn.py\", line 116, in spawn_main\n",
      "    exitcode = _main(fd, parent_sentinel)\n",
      "  File \"/opt/homebrew/Cellar/python@3.10/3.10.9/Frameworks/Python.framework/Versions/3.10/lib/python3.10/multiprocessing/spawn.py\", line 126, in _main\n",
      "    self = reduction.pickle.load(from_parent)\n"
     ]
    }
   ],
   "source": [
    "import multiprocessing\n",
    "\n",
    "def worker():\n",
    "    LIST.append('item')\n",
    "\n",
    "LIST = []\n",
    "\n",
    "if __name__ == \"__main__\":\n",
    "    processes = [\n",
    "        multiprocessing.Process(target=worker)\n",
    "        for _ in range(5)\n",
    "    ]\n",
    "    for p in processes:\n",
    "        p.start()\n",
    "    for p in processes:\n",
    "        p.join()\n",
    "    print(LIST)"
   ]
  },
  {
   "cell_type": "markdown",
   "metadata": {},
   "source": [
    "В данном примере, переменная LIST создана в главном процессе и не передается в созданные процессы, поэтому каждый процесс работает с отдельной копией переменной LIST. Когда каждый процесс пытается добавить item в свою копию списка, на самом деле они изменяют разные списки, которые не связаны друг с другом. Поэтому, после завершения всех процессов, список в главном процессе остается пустым."
   ]
  },
  {
   "cell_type": "markdown",
   "metadata": {
    "id": "xAmgzVjNb5tx"
   },
   "source": [
    "**Упражнение 2.** Запустите код. Какая проблема здесь возникает? Исправьте её."
   ]
  },
  {
   "cell_type": "code",
   "execution_count": 2,
   "metadata": {
    "colab": {
     "base_uri": "https://localhost:8080/"
    },
    "id": "LzTaS___btJO",
    "outputId": "472ca52b-f2bf-4b34-99b0-d64a69a411eb"
   },
   "outputs": [
    {
     "name": "stdout",
     "output_type": "stream",
     "text": [
      "threadthread t2 about to lock l2\n",
      "thread t2 has lock l2\n",
      " t1 about to lock l1\n",
      "thread t2 about to lock l1\n",
      "thread t2\n",
      "thread t1 has lock l1\n",
      "thread t1 about to lock l2\n",
      "thread t1\n"
     ]
    }
   ],
   "source": [
    "import threading\n",
    "import time\n",
    "\n",
    "l1 = threading.Lock()\n",
    "l2 = threading.Lock()\n",
    "\n",
    "def f1(name):\n",
    "    print('thread',name,'about to lock l1')\n",
    "    with l1:\n",
    "        print('thread',name,'has lock l1')\n",
    "        time.sleep(0.3)\n",
    "        print('thread',name,'about to lock l2')\n",
    "        with l2:\n",
    "            print('thread',name)\n",
    "\n",
    "def f2(name):\n",
    "    print('thread',name,'about to lock l2')\n",
    "    with l1:\n",
    "        print('thread',name,'has lock l2')\n",
    "        time.sleep(0.3)\n",
    "        print('thread',name,'about to lock l1')\n",
    "        with l2:\n",
    "            print('thread',name)\n",
    "\n",
    "if __name__ == '__main__':\n",
    "    t1=threading.Thread(target=f1, args=['t1',])\n",
    "    t2=threading.Thread(target=f2, args=['t2',])\n",
    "\n",
    "    t1.start()\n",
    "    t2.start()\n",
    "\n",
    "    t1.join()\n",
    "    t2.join()"
   ]
  },
  {
   "cell_type": "markdown",
   "metadata": {},
   "source": [
    "Данный код содержит deadlock (взаимную блокировку) - ситуацию, когда два или более потока ждут друг друга, чтобы получить доступ к ресурсу, заблокированному другим потоком. В этом случае два потока пытаются получить блокировки на двух разных объектах l1 и l2 в разном порядке, что может привести к блокировке одного или обоих потоков.\n",
    "\n",
    "В функции f1 поток сначала блокирует l1, а затем l2, в то время как в функции f2 поток блокирует l2, а затем l1. Если поток f1 заблокировал l1 и ждет доступа к l2, а поток f2 заблокировал l2 и ждет доступа к l1, то оба потока будут заблокированы, и программа зависнет."
   ]
  },
  {
   "cell_type": "markdown",
   "metadata": {
    "id": "NmIoTLzBc5NF"
   },
   "source": [
    "**Упражнение 3.** Вам необходимо вычислить значение функции f = x**2 + x * 2 + 10 * x для различных значений аргументов (10 случайных чисел).\n",
    "\n",
    "1. Сделайте программу без использования потоков/процессов и измерьте время.\n",
    "\n",
    "2. Разбейте задачу на несколько потоков (отдельный поток для каждого аргумента и отдельный поток для каждого слагаемоего функции). Запустите программу. Измерьте время. \n",
    "\n",
    "3. Разбейте задачу на несколько процессов (отдельный процесс для каждого аргумента и отдельный процесс для каждого слагаемоего функции). Запустите программу. Измерьте время. \n",
    "\n",
    "Для синхронизации можно использовать барьеры.\n",
    "\n",
    "Объясните полученные результаты."
   ]
  },
  {
   "cell_type": "code",
   "execution_count": 5,
   "metadata": {},
   "outputs": [
    {
     "name": "stdout",
     "output_type": "stream",
     "text": [
      "f(62) = 4588\n",
      "f(-64) = 3328\n",
      "f(-2) = -20\n",
      "f(2) = 28\n",
      "f(-79) = 5293\n",
      "f(-32) = 640\n",
      "f(77) = 6853\n",
      "f(-52) = 2080\n",
      "f(56) = 3808\n",
      "f(-85) = 6205\n",
      "0.00032210350036621094\n"
     ]
    }
   ],
   "source": [
    "import random\n",
    "import time\n",
    "\n",
    "def function(x):\n",
    "    return x**2 + x*2 + 10*x\n",
    "\n",
    "\n",
    "prev_time = time.time()\n",
    "for i in range(10):\n",
    "    x = random.randint(-100, 100)\n",
    "    result = function(x)\n",
    "    print(f\"f({x}) = {result}\")\n",
    "print(time.time() - prev_time)\n"
   ]
  },
  {
   "cell_type": "code",
   "execution_count": 8,
   "metadata": {},
   "outputs": [
    {
     "name": "stdout",
     "output_type": "stream",
     "text": [
      "f(0) = 0\n",
      "f(1) = 13\n",
      "f(2) = 28\n",
      "f(3) = 45\n",
      "f(4) = 64\n",
      "f(5) = 85\n",
      "f(6) = 108\n",
      "f(7) = 133\n",
      "f(8) = 160\n",
      "f(9) = 189\n",
      "0.0064868927001953125\n"
     ]
    }
   ],
   "source": [
    "import threading\n",
    "\n",
    "def calculate_sum(x, result_list):\n",
    "    result = x**2\n",
    "    result_list[0] = result\n",
    "\n",
    "def calculate_product(x, result_list):\n",
    "    result = x*2\n",
    "    result_list[1] = result\n",
    "\n",
    "def calculate_constant(x, result_list):\n",
    "    result = 10*x\n",
    "    result_list[2] = result\n",
    "    \n",
    "prev_time = time.time()\n",
    "\n",
    "def calculate_function(x, result_list):\n",
    "    threads = []\n",
    "    results = [None, None, None]\n",
    "    \n",
    "    threads.append(threading.Thread(target=calculate_sum, args=(x, results)))\n",
    "    threads.append(threading.Thread(target=calculate_product, args=(x, results)))\n",
    "    threads.append(threading.Thread(target=calculate_constant, args=(x, results)))\n",
    "    \n",
    "    for thread in threads:\n",
    "        thread.start()\n",
    "    \n",
    "    for thread in threads:\n",
    "        thread.join()\n",
    "    \n",
    "    result = sum(results)\n",
    "    result_list.append(result)\n",
    "\n",
    "results = []\n",
    "\n",
    "threads = []\n",
    "for x in range(10):\n",
    "    result_list = []\n",
    "    threads.append(threading.Thread(target=calculate_function, args=(x, result_list)))\n",
    "    results.append(result_list)\n",
    "\n",
    "for thread in threads:\n",
    "    thread.start()\n",
    "\n",
    "for thread in threads:\n",
    "    thread.join()\n",
    "\n",
    "for i, result_list in enumerate(results):\n",
    "    result = result_list[0]\n",
    "    print(f\"f({i}) = {result}\")\n",
    "\n",
    "    \n",
    "print(time.time() - prev_time)\n"
   ]
  },
  {
   "cell_type": "code",
   "execution_count": null,
   "metadata": {},
   "outputs": [],
   "source": [
    "import multiprocessing\n",
    "\n",
    "def calculate_sum(x, result_list):\n",
    "    result = x**2\n",
    "    result_list[0] = result\n",
    "\n",
    "def calculate_product(x, result_list):\n",
    "    result = x*2\n",
    "    result_list[1] = result\n",
    "\n",
    "def calculate_constant(x, result_list):\n",
    "    result = 10*x\n",
    "    result_list[2] = result\n",
    "\n",
    "def calculate_function(x, result_list):\n",
    "    processes = []\n",
    "    results = multiprocessing.Array('i', 3)\n",
    "    \n",
    "    processes.append(multiprocessing.Process(target=calculate_sum, args=(x, results)))\n",
    "    processes.append(multiprocessing.Process(target=calculate_product, args=(x, results)))\n",
    "    processes.append(multiprocessing.Process(target=calculate_constant, args=(x, results)))\n",
    "    \n",
    "    for process in processes:\n",
    "        process.start()\n",
    "    \n",
    "    for process in processes:\n",
    "        process.join()\n",
    "\n",
    "    result = sum(results)\n",
    "    result_list.append(result)\n",
    "\n",
    "if __name__ == '__main__':\n",
    "    prev_time = time.time()\n",
    "    results = []\n",
    "    processes = []\n",
    "    for x in range(10):\n",
    "        result_list = multiprocessing.Manager().list()\n",
    "        processes.append(multiprocessing.Process(target=calculate_function, args=(x, result_list)))\n",
    "        results.append(result_list)\n",
    "\n",
    "    for process in processes:\n",
    "        process.start()\n",
    "\n",
    "    for process in processes:\n",
    "        process.join()\n",
    "\n",
    "    for i, result_list in enumerate(results):\n",
    "        result = result_list[0]\n",
    "        print(f\"f({i}) = {result}\")\n",
    "    print(time.time() - prev_time)\n"
   ]
  },
  {
   "cell_type": "markdown",
   "metadata": {},
   "source": [
    "В данном примере быстрее всего отработает однопоточный код, тк используются несложные вычисления, а накладки на создания потоков и процессов слишком высоки"
   ]
  },
  {
   "cell_type": "markdown",
   "metadata": {
    "id": "NJyuM71kdhY1"
   },
   "source": [
    "**Упражнение 4.** Смоделируйте следующую ситуацию с использованием семафоров и событий.\n",
    "\n",
    "1. Есть 5 касс и 20 покупателей. Все они хотят купить билеты на матч. На билетах не указаны места. \n",
    "\n",
    "2. После покупки билета покупатель бежит на стадион (у каждого разная скорость бега, это намек, что надо сделать sleep) и занимает свободное место.\n",
    "\n",
    "Программа должна вывести логированные события по типу:\n",
    "\n",
    "client 0, service time (ticket): 1.0004174709320068\n",
    "\n",
    "client 1, service time (ticket): 1.0005174709320068\n",
    "\n",
    "client 1, runnig time to stad:   1.2004174709320068\n",
    "\n",
    "client 0, runnig time to stad:   1.5004174709320068"
   ]
  },
  {
   "cell_type": "code",
   "execution_count": null,
   "metadata": {},
   "outputs": [],
   "source": [
    "import threading\n",
    "import time\n",
    "\n",
    "# Создаем семафоры и события\n",
    "free_cashiers = threading.Semaphore(5)\n",
    "ticket_sold = threading.Event()\n",
    "seat_taken = threading.Event()\n",
    "free_seats = threading.Semaphore(20)\n",
    "\n",
    "\n",
    "# Определяем класс покупателя\n",
    "class Customer(threading.Thread):\n",
    "    def __init__(self, name):\n",
    "        super().__init__()\n",
    "        self.name = name\n",
    "\n",
    "    def run(self):\n",
    "        # Покупаем билет\n",
    "        print(f\"client {self.name}, service time (ticket): {time.time()}\")\n",
    "        time.sleep(1)\n",
    "\n",
    "        # Бежим на стадион и ищем свободное место\n",
    "        print(f\"client {self.name}, running time to stad: {time.time()}\")\n",
    "        time.sleep(2)\n",
    "        free_seats.acquire()\n",
    "\n",
    "        # Освобождаем кассу и сигнализируем о занятии места\n",
    "        free_cashiers.release()\n",
    "        seat_taken.set()\n",
    "\n",
    "\n",
    "# Создаем 20 покупателей и запускаем их в работу\n",
    "for i in range(20):\n",
    "    # Ждем свободной кассы\n",
    "    free_cashiers.acquire()\n",
    "    c = Customer(name=f\"{i}\")\n",
    "    c.start()\n",
    "\n",
    "# Кассир продает билеты и освобождает место на стадионе\n",
    "for _ in range(20):\n",
    "    print(f\"service time (ticket): {time.time()}\")\n",
    "    ticket_sold.set()\n",
    "    seat_taken.wait()\n",
    "    ticket_sold.clear()\n"
   ]
  },
  {
   "cell_type": "markdown",
   "metadata": {
    "id": "iftq-o1Cey43"
   },
   "source": [
    "**Упражнение 5.** Покажите и опишите разничу между Semaphore и BoundedSemaphore."
   ]
  },
  {
   "cell_type": "markdown",
   "metadata": {},
   "source": [
    "Semaphore и BoundedSemaphore - это два класса из модуля multiprocessing, которые используются для контроля доступа к общим ресурсам в многопоточных или многопроцессорных средах.\n",
    "\n",
    "Semaphore - это объект, который управляет доступом к ресурсу путем подсчета числа разрешений на доступ. Когда поток хочет получить доступ к ресурсу, он запрашивает разрешение. Если есть доступные разрешения, то поток занимает ресурс, а число разрешений уменьшается. Если все разрешения заняты, то поток блокируется и ждет, пока один из других потоков не освободит ресурс. Пример"
   ]
  },
  {
   "cell_type": "code",
   "execution_count": null,
   "metadata": {},
   "outputs": [],
   "source": [
    "from multiprocessing import Semaphore, Process\n",
    "import time\n",
    "\n",
    "def worker(s, i):\n",
    "    s.acquire()\n",
    "    print(f\"Worker {i} is working\")\n",
    "    time.sleep(1)\n",
    "    s.release()\n",
    "\n",
    "if __name__ == '__main__':\n",
    "    s = Semaphore(2)\n",
    "    processes = []\n",
    "    for i in range(5):\n",
    "        p = Process(target=worker, args=(s, i))\n",
    "        processes.append(p)\n",
    "        p.start()\n",
    "\n",
    "    for p in processes:\n",
    "        p.join()\n"
   ]
  },
  {
   "cell_type": "markdown",
   "metadata": {},
   "source": [
    "В этом примере мы создаем объект Semaphore(2), что означает, что два потока могут получить доступ к ресурсу одновременно. Мы запускаем 5 процессов, которые пытаются получить доступ к ресурсу. Первые два процесса получают доступ к ресурсу, тогда как остальные блокируются и ждут, пока один из первых двух процессов освободит ресурс.\n",
    "\n",
    "BoundedSemaphore - это подкласс Semaphore, который также управляет доступом к ресурсу, но имеет ограниченный размер, который задается при создании объекта. Это гарантирует, что количество разрешений на доступ никогда не будет превышать заданного значения. Пример:"
   ]
  },
  {
   "cell_type": "code",
   "execution_count": null,
   "metadata": {},
   "outputs": [],
   "source": [
    "from multiprocessing import BoundedSemaphore, Process\n",
    "import time\n",
    "\n",
    "def worker(s, i):\n",
    "    s.acquire()\n",
    "    print(f\"Worker {i} is working\")\n",
    "    time.sleep(1)\n",
    "    s.release()\n",
    "\n",
    "if __name__ == '__main__':\n",
    "    s = BoundedSemaphore(2)\n",
    "    processes = []\n",
    "    for i in range(5):\n",
    "        p = Process(target=worker, args=(s, i))\n",
    "        processes.append(p)\n",
    "        p.start()\n",
    "\n",
    "    for p in processes:\n",
    "        p.join()\n"
   ]
  },
  {
   "cell_type": "markdown",
   "metadata": {},
   "source": [
    "В этом примере мы создаем объект BoundedSemaphore(2), что означает, что только два процесса могут получить доступ к ресурсу одновременно. Мы запускаем 5 процессов, которые пытаются получить доступ к ресурсу. Первые два процесса получают доступ к ресурсу, выполняют свою работу, освобождают ресурс, и затем следующие два процесса получают доступ к ресурсу, и т.д. Таким образом, только два процесса могут работать с ресурсом в данный момент."
   ]
  },
  {
   "cell_type": "markdown",
   "metadata": {
    "id": "q9LVYFQte7UF"
   },
   "source": [
    "**Упражнение 6.** Запустите на исполнение, замерив время работы. Перепишите с помощью потоков и опять замерьте время. Затем с помощью процессов и снова измерьте время. Объясните результат."
   ]
  },
  {
   "cell_type": "code",
   "execution_count": null,
   "metadata": {
    "colab": {
     "base_uri": "https://localhost:8080/"
    },
    "id": "sHFcCHIleygy",
    "outputId": "a1710f30-d46a-47d0-ad42-dc9140bebe2e"
   },
   "outputs": [
    {
     "name": "stdout",
     "output_type": "stream",
     "text": [
      "4.498141050338745\n"
     ]
    }
   ],
   "source": [
    "import urllib.request\n",
    "import time\n",
    "\n",
    "\n",
    "urls = [\n",
    "    'https://www.yandex.ru', 'https://www.google.com',\n",
    "    'https://habrahabr.ru', 'https://www.python.org',\n",
    "    'https://isocpp.org',\n",
    "]\n",
    "\n",
    "\n",
    "def read_url(url):\n",
    "    with urllib.request.urlopen(url) as u:\n",
    "        return u.read()\n",
    "\n",
    "\n",
    "start = time.time()\n",
    "for url in urls:\n",
    "    read_url(url)\n",
    "print(time.time() - start)"
   ]
  },
  {
   "cell_type": "code",
   "execution_count": 13,
   "metadata": {},
   "outputs": [
    {
     "name": "stdout",
     "output_type": "stream",
     "text": [
      "1.7011709213256836\n"
     ]
    }
   ],
   "source": [
    "import urllib.request\n",
    "import time\n",
    "import threading\n",
    "\n",
    "\n",
    "urls = [\n",
    "    'https://www.yandex.ru', 'https://www.google.com',\n",
    "    'https://habrahabr.ru', 'https://www.python.org',\n",
    "    'https://isocpp.org',\n",
    "]\n",
    "\n",
    "\n",
    "def read_url(url):\n",
    "    with urllib.request.urlopen(url) as u:\n",
    "        return u.read()\n",
    "\n",
    "\n",
    "start = time.time()\n",
    "threads = []\n",
    "for url in urls:\n",
    "    x = threading.Thread(target = read_url, args =(url,))\n",
    "    threads.append(x)\n",
    "    x.start()\n",
    "\n",
    "for thread in threads:\n",
    "    thread.join()\n",
    "    \n",
    "print(time.time() - start)"
   ]
  },
  {
   "cell_type": "code",
   "execution_count": null,
   "metadata": {},
   "outputs": [],
   "source": [
    "import urllib.request\n",
    "import time\n",
    "from multiprocessing import Process\n",
    "\n",
    "\n",
    "urls = ['https://www.yandex.ru', 'https://www.google.com',    \n",
    "        'https://habrahabr.ru', 'https://www.python.org',\n",
    "        'https://isocpp.org',]\n",
    "\n",
    "\n",
    "def read_url(url):\n",
    "    with urllib.request.urlopen(url) as u:\n",
    "        return u.read()\n",
    "\n",
    "\n",
    "if __name__ == '__main__':\n",
    "    start = time.time()\n",
    "    processes = []\n",
    "\n",
    "    for url in urls:\n",
    "        p = Process(target=read_url, args=(url,))\n",
    "        p.start()\n",
    "        processes.append(p)\n",
    "\n",
    "    for p in processes:\n",
    "        p.join()\n",
    "\n",
    "    print(time.time() - start)\n"
   ]
  },
  {
   "cell_type": "markdown",
   "metadata": {},
   "source": [
    "Код с использованием потоков в данном случае будет работать быстрее, чем код с использованием процессов, так как размерность URL-адресов в нашем примере небольшая, так же, потоки в общем случае будут работать быстрее, тк потоки общаются между собой непосредственно и не требуют межпроцессного взаимодействия, что может замедлить работу. "
   ]
  },
  {
   "cell_type": "code",
   "execution_count": null,
   "metadata": {},
   "outputs": [],
   "source": []
  }
 ],
 "metadata": {
  "colab": {
   "provenance": []
  },
  "kernelspec": {
   "display_name": "Python 3 (ipykernel)",
   "language": "python",
   "name": "python3"
  },
  "language_info": {
   "codemirror_mode": {
    "name": "ipython",
    "version": 3
   },
   "file_extension": ".py",
   "mimetype": "text/x-python",
   "name": "python",
   "nbconvert_exporter": "python",
   "pygments_lexer": "ipython3",
   "version": "3.10.9"
  }
 },
 "nbformat": 4,
 "nbformat_minor": 1
}
