{
 "cells": [
  {
   "cell_type": "markdown",
   "metadata": {
    "id": "b-sHqXWsjhup"
   },
   "source": [
    "Упражнение 1. Напишите программу Hello World, которая выводит номер процесса и Hello World. Запустите с 10 процессами. Объясните результат (почему не по порядку, при разных запусках порядок различается). Обратите внимание на использование MPI."
   ]
  },
  {
   "cell_type": "code",
   "execution_count": null,
   "metadata": {
    "colab": {
     "base_uri": "https://localhost:8080/"
    },
    "id": "jZSbW1I4vugc",
    "outputId": "6e3345d0-6d82-48bf-dd34-e9461124b464"
   },
   "outputs": [
    {
     "name": "stdout",
     "output_type": "stream",
     "text": [
      "Collecting mpi4py\n",
      "  Downloading mpi4py-3.1.3.tar.gz (2.5 MB)\n",
      "\u001b[K     |████████████████████████████████| 2.5 MB 5.0 MB/s \n",
      "\u001b[?25h  Installing build dependencies ... \u001b[?25l\u001b[?25hdone\n",
      "  Getting requirements to build wheel ... \u001b[?25l\u001b[?25hdone\n",
      "    Preparing wheel metadata ... \u001b[?25l\u001b[?25hdone\n",
      "Building wheels for collected packages: mpi4py\n",
      "  Building wheel for mpi4py (PEP 517) ... \u001b[?25l\u001b[?25hdone\n",
      "  Created wheel for mpi4py: filename=mpi4py-3.1.3-cp37-cp37m-linux_x86_64.whl size=2185307 sha256=56d6bf5cbd8e9aba8240861343ac91c933ccd2d9f6d794a70ac7a5af5d27b77f\n",
      "  Stored in directory: /root/.cache/pip/wheels/7a/07/14/6a0c63fa2c6e473c6edc40985b7d89f05c61ff25ee7f0ad9ac\n",
      "Successfully built mpi4py\n",
      "Installing collected packages: mpi4py\n",
      "Successfully installed mpi4py-3.1.3\n"
     ]
    }
   ],
   "source": [
    "!pip install mpi4py"
   ]
  },
  {
   "cell_type": "code",
   "execution_count": null,
   "metadata": {
    "colab": {
     "base_uri": "https://localhost:8080/"
    },
    "id": "UJ8yhg3tv38E",
    "outputId": "5a3fd5a8-827a-4b00-fa25-36ab237aed61"
   },
   "outputs": [
    {
     "name": "stdout",
     "output_type": "stream",
     "text": [
      "Hello world  3\n",
      "Hello world  4\n",
      "Hello world  2\n",
      "Hello world  1\n",
      "Hello world  0\n"
     ]
    }
   ],
   "source": [
    "!mpiexec -n 5 --allow-run-as-root python -m mpi4py /content/task1.py"
   ]
  },
  {
   "cell_type": "markdown",
   "metadata": {
    "id": "VW-dwaq_kae5"
   },
   "source": [
    "Упражнение 2.Напишите программу MPI, которая определяет две переменные с плавающей точкой a и b. Используйте ранг:\n",
    "\n",
    "-- выведите a-b, если ранг равен 0\n",
    "\n",
    "-- выведите a+b, если ранг равен 1\n",
    "\n",
    "-- выведите a*b, если ранг равен 2\n",
    "\n",
    "Запустите программу и убедитесь, что она работает корректно. "
   ]
  },
  {
   "cell_type": "markdown",
   "metadata": {
    "id": "EQsSefm1kaHN"
   },
   "source": [
    "Упражнение 3. Запустите код ниже, убидитесь в его работоспособности."
   ]
  },
  {
   "cell_type": "code",
   "execution_count": null,
   "metadata": {
    "colab": {
     "base_uri": "https://localhost:8080/",
     "height": 184
    },
    "id": "PTTCtEdEk1mp",
    "outputId": "af4f4c25-1f02-4f38-ec97-047964ae693e"
   },
   "outputs": [
    {
     "name": "stdout",
     "output_type": "stream",
     "text": [
      "This example requires exactly two ranks 1\n"
     ]
    },
    {
     "ename": "SystemExit",
     "evalue": "ignored",
     "output_type": "error",
     "traceback": [
      "An exception has occurred, use %tb to see the full traceback.\n",
      "\u001b[0;31mSystemExit\u001b[0m\u001b[0;31m:\u001b[0m 1\n"
     ]
    },
    {
     "name": "stderr",
     "output_type": "stream",
     "text": [
      "/usr/local/lib/python3.7/dist-packages/IPython/core/interactiveshell.py:2890: UserWarning: To exit: use 'exit', 'quit', or Ctrl-D.\n",
      "  warn(\"To exit: use 'exit', 'quit', or Ctrl-D.\", stacklevel=1)\n"
     ]
    }
   ],
   "source": [
    "from mpi4py import MPI\n",
    "import sys\n",
    "\n",
    "n_ranks = MPI.COMM_WORLD.Get_size()\n",
    "if n_ranks != 2:\n",
    "    print(\"This example requires exactly two ranks\", n_ranks)\n",
    "    sys.exit(1)\n",
    "\n",
    "rank = MPI.COMM_WORLD.Get_rank()\n",
    "\n",
    "if rank == 0:\n",
    "    message = \"Hello, world!\"\n",
    "    MPI.COMM_WORLD.send(message, dest=1, tag=0)\n",
    "\n",
    "if rank == 1:\n",
    "    message = MPI.COMM_WORLD.recv(source=0, tag=0)\n",
    "    print(message)"
   ]
  },
  {
   "cell_type": "code",
   "execution_count": null,
   "metadata": {},
   "outputs": [],
   "source": [
    "mpiexec -n 3 python program_name.py\n",
    "\n",
    "Пример запуска программы на трех процессах"
   ]
  },
  {
   "cell_type": "markdown",
   "metadata": {
    "id": "-_7T9y40k96s"
   },
   "source": [
    "Измените приведенный выше пример, чтобы он работал с любым количеством рангов. Соедините четные ранги с нечетными и пусть каждый четный ранг отправляет сообщение соответствующему нечетному рангу."
   ]
  },
  {
   "cell_type": "code",
   "execution_count": null,
   "metadata": {},
   "outputs": [],
   "source": [
    "from mpi4py import MPI\n",
    "\n",
    "comm = MPI.COMM_WORLD\n",
    "rank = comm.Get_rank()\n",
    "size = comm.Get_size()\n",
    "\n",
    "a = 3.14\n",
    "b = 2.71\n",
    "\n",
    "if rank % 2 == 0:\n",
    "    target_rank = rank + 1\n",
    "    comm.send(a - b, dest=target_rank)\n",
    "elif rank % 2 == 1:\n",
    "    source_rank = rank - 1\n",
    "    result = comm.recv(source=source_rank)\n",
    "    print(f\"Rank {rank}: a - b = {result}\")\n",
    "\n",
    "comm.Barrier() \n",
    "if rank % 2 == 0:\n",
    "    target_rank = rank + 1\n",
    "    comm.send(a + b, dest=target_rank)\n",
    "elif rank % 2 == 1:\n",
    "    source_rank = rank - 1\n",
    "    result = comm.recv(source=source_rank)\n",
    "    print(f\"Rank {rank}: a + b = {result}\")\n",
    "\n",
    "comm.Barrier() \n",
    "if rank % 2 == 0:\n",
    "    target_rank = rank + 1\n",
    "    comm.send(a * b, dest=target_rank)\n",
    "elif rank % 2 == 1:\n",
    "    source_rank = rank - 1\n",
    "    result = comm.recv(source=source_rank)\n",
    "    print(f\"Rank {rank}: a * b = {result}\")\n"
   ]
  },
  {
   "cell_type": "markdown",
   "metadata": {},
   "source": [
    "В программе мы получаем количество процессов, каждый четный процесс отправляет сообщение соответствующему нечетному процессу с результатом вычисления a - b, затем мы синхронизируем процессы, каждый четный процесс отправляет сообщение соответствующему нечетному процессу с результатом вычисления a + b, затем снова синхронизируем процессы, и каждый четный процесс отправляет сообщение соответствующему нечетному процессу с результатом вычисления a * b. Нечетные процессы принимают эти сообщения и выводят результаты на экран."
   ]
  },
  {
   "cell_type": "markdown",
   "metadata": {
    "id": "73zlRG0blFVc"
   },
   "source": [
    "Упражнение 4. Запустите этот код и посмотрите, что произойдет.\n",
    "Как бы вы изменили код, чтобы решить проблему?"
   ]
  },
  {
   "cell_type": "code",
   "execution_count": null,
   "metadata": {
    "colab": {
     "base_uri": "https://localhost:8080/",
     "height": 368
    },
    "id": "QRs-pq1pk1_a",
    "outputId": "b160596c-3f25-4f47-abaf-c95b1d530a89"
   },
   "outputs": [
    {
     "ename": "ModuleNotFoundError",
     "errorDetails": {
      "actions": [
       {
        "action": "open_url",
        "actionText": "Open Examples",
        "url": "/notebooks/snippets/importing_libraries.ipynb"
       }
      ]
     },
     "evalue": "ignored",
     "output_type": "error",
     "traceback": [
      "\u001b[0;31m---------------------------------------------------------------------------\u001b[0m",
      "\u001b[0;31mModuleNotFoundError\u001b[0m                       Traceback (most recent call last)",
      "\u001b[0;32m<ipython-input-4-adeaf7f19ccc>\u001b[0m in \u001b[0;36m<module>\u001b[0;34m()\u001b[0m\n\u001b[0;32m----> 1\u001b[0;31m \u001b[0;32mfrom\u001b[0m \u001b[0mmpi4py\u001b[0m \u001b[0;32mimport\u001b[0m \u001b[0mMPI\u001b[0m\u001b[0;34m\u001b[0m\u001b[0;34m\u001b[0m\u001b[0m\n\u001b[0m\u001b[1;32m      2\u001b[0m \u001b[0;32mimport\u001b[0m \u001b[0msys\u001b[0m\u001b[0;34m\u001b[0m\u001b[0;34m\u001b[0m\u001b[0m\n\u001b[1;32m      3\u001b[0m \u001b[0;34m\u001b[0m\u001b[0m\n\u001b[1;32m      4\u001b[0m \u001b[0mn_numbers\u001b[0m \u001b[0;34m=\u001b[0m \u001b[0;36m10000\u001b[0m\u001b[0;34m\u001b[0m\u001b[0;34m\u001b[0m\u001b[0m\n\u001b[1;32m      5\u001b[0m \u001b[0;34m\u001b[0m\u001b[0m\n",
      "\u001b[0;31mModuleNotFoundError\u001b[0m: No module named 'mpi4py'",
      "",
      "\u001b[0;31m---------------------------------------------------------------------------\u001b[0;32m\nNOTE: If your import is failing due to a missing package, you can\nmanually install dependencies using either !pip or !apt.\n\nTo view examples of installing some common dependencies, click the\n\"Open Examples\" button below.\n\u001b[0;31m---------------------------------------------------------------------------\u001b[0m\n"
     ]
    }
   ],
   "source": [
    "from mpi4py import MPI\n",
    "import sys\n",
    "\n",
    "n_numbers = 10000\n",
    "\n",
    "rank = MPI.COMM_WORLD.Get_rank()\n",
    "n_ranks = MPI.COMM_WORLD.Get_size()\n",
    "\n",
    "if n_ranks != 2:\n",
    "    print(\"This example requires exactly two ranks\")\n",
    "    sys.exit(1)\n",
    "\n",
    "if rank == 0:\n",
    "    neighbour = 1\n",
    "else:\n",
    "    neighbour = 0\n",
    "\n",
    "send_message = []\n",
    "for i in range(n_numbers):\n",
    "    send_message.append(i)\n",
    "\n",
    "MPI.COMM_WORLD.send(send_message, dest=neighbour, tag=0)\n",
    "\n",
    "recv_message = MPI.COMM_WORLD.recv(source=neighbour, tag=0)\n",
    "print(\"Message received by rank\", rank)"
   ]
  },
  {
   "cell_type": "markdown",
   "metadata": {},
   "source": []
  },
  {
   "cell_type": "code",
   "execution_count": null,
   "metadata": {
    "id": "CnHFAscW4Vu9"
   },
   "outputs": [],
   "source": [
    "!mpiexec -n 2 --allow-run-as-root python -m mpi4py /content/task4.py"
   ]
  },
  {
   "cell_type": "markdown",
   "metadata": {},
   "source": [
    "Проблема заключается в том, что при выполнении данного кода возможна ситуация, когда процесс с рангом 0 будет ждать сообщение от процесса с рангом 1, тогда как процесс с рангом 1 уже завершил свою работу и не отправил сообщение. Чтобы исправить проблему можно использовать метод MPI.COMM_WORLD.Iprobe(), который проверяет, есть ли доступные сообщения в буфере для приема. Если сообщения нет, то метод возвращает значение False, а если сообщение есть, то метод возвращает значение True и объект, который можно принять с помощью метода MPI.COMM_WORLD.recv()."
   ]
  },
  {
   "cell_type": "code",
   "execution_count": null,
   "metadata": {},
   "outputs": [],
   "source": [
    "from mpi4py import MPI\n",
    "import sys\n",
    "\n",
    "n_numbers = 10000\n",
    "\n",
    "rank = MPI.COMM_WORLD.Get_rank()\n",
    "n_ranks = MPI.COMM_WORLD.Get_size()\n",
    "\n",
    "if n_ranks != 2:\n",
    "    print(\"This example requires exactly two ranks\")\n",
    "    sys.exit(1)\n",
    "\n",
    "if rank == 0:\n",
    "    neighbour = 1\n",
    "else:\n",
    "    neighbour = 0\n",
    "\n",
    "send_message = []\n",
    "for i in range(n_numbers):\n",
    "    send_message.append(i)\n",
    "\n",
    "MPI.COMM_WORLD.send(send_message, dest=neighbour, tag=0)\n",
    "\n",
    "if rank == 0:\n",
    "    while True:\n",
    "        flag = MPI.COMM_WORLD.Iprobe(source=neighbour, tag=0)\n",
    "        if flag:\n",
    "            recv_message = MPI.COMM_WORLD.recv(source=neighbour, tag=0)\n",
    "            break\n",
    "\n",
    "    print(\"Message received by rank\", rank)\n",
    "else:\n",
    "    print(\"Message sent by rank\", rank)\n"
   ]
  },
  {
   "cell_type": "markdown",
   "metadata": {
    "id": "2Lkx2OqZltX5"
   },
   "source": [
    "Упражнение 5. В упр. 1 мы написали программу hello world, в которой каждый ранг отправляет сообщение рангу 0. Перепишите, используя gather."
   ]
  },
  {
   "cell_type": "code",
   "execution_count": null,
   "metadata": {},
   "outputs": [],
   "source": [
    "from mpi4py import MPI\n",
    "\n",
    "comm = MPI.COMM_WORLD\n",
    "rank = comm.Get_rank()\n",
    "size = comm.Get_size()\n",
    "\n",
    "\n",
    "msg = \"Hello from process {}\".format(rank)\n",
    "\n",
    "if rank == 0:\n",
    "    recv_msg = [\"\"] * size\n",
    "else:\n",
    "    recv_msg = None\n",
    "    \n",
    "comm.Gather(msg, recv_msg, root=0)\n",
    "\n",
    "if rank == 0:\n",
    "    for i in range(size):\n",
    "        print(recv_msg[i])\n"
   ]
  },
  {
   "cell_type": "markdown",
   "metadata": {},
   "source": [
    "В этом примере каждый процесс отправляет свою строку \"Hello from process {rank}\" на процесс с рангом 0, используя функцию MPI_Gather. Процесс с рангом 0 собирает все сообщения и выводит их в порядке их рангов."
   ]
  },
  {
   "cell_type": "markdown",
   "metadata": {
    "id": "Tp3znkgPl4g8"
   },
   "source": [
    "Упражнение 6. Следующая программа создает массив с именем vector, который содержит список n_numbers для каждого ранга. Первый ранг содержит числа от 1 до n_numbers, второй ранг — от n_numbers до 2*n_numbers2 и так далее. Затем он вызывает функции find_max и find_sum, которые должны вычислить сумму и максимум вектора.\n",
    "Эти функции не реализуются параллельно и возвращают только сумму и максимум локальных векторов. Измените функции find_sum и find_max, чтобы они работали правильно параллельно, используя MPI_Reduce или MPI_Allreduce."
   ]
  },
  {
   "cell_type": "code",
   "execution_count": null,
   "metadata": {
    "colab": {
     "base_uri": "https://localhost:8080/",
     "height": 368
    },
    "id": "kyA3bdvvlN5s",
    "outputId": "844b0f6a-5b19-4cff-a921-7b2a662f2708"
   },
   "outputs": [
    {
     "ename": "ModuleNotFoundError",
     "errorDetails": {
      "actions": [
       {
        "action": "open_url",
        "actionText": "Open Examples",
        "url": "/notebooks/snippets/importing_libraries.ipynb"
       }
      ]
     },
     "evalue": "ignored",
     "output_type": "error",
     "traceback": [
      "\u001b[0;31m---------------------------------------------------------------------------\u001b[0m",
      "\u001b[0;31mModuleNotFoundError\u001b[0m                       Traceback (most recent call last)",
      "\u001b[0;32m<ipython-input-5-7445e521ebc5>\u001b[0m in \u001b[0;36m<module>\u001b[0;34m()\u001b[0m\n\u001b[0;32m----> 1\u001b[0;31m \u001b[0;32mfrom\u001b[0m \u001b[0mmpi4py\u001b[0m \u001b[0;32mimport\u001b[0m \u001b[0mMPI\u001b[0m\u001b[0;34m\u001b[0m\u001b[0;34m\u001b[0m\u001b[0m\n\u001b[0m\u001b[1;32m      2\u001b[0m \u001b[0;34m\u001b[0m\u001b[0m\n\u001b[1;32m      3\u001b[0m \u001b[0;32mdef\u001b[0m \u001b[0mfind_sum\u001b[0m\u001b[0;34m(\u001b[0m\u001b[0mvector\u001b[0m\u001b[0;34m)\u001b[0m\u001b[0;34m:\u001b[0m\u001b[0;34m\u001b[0m\u001b[0;34m\u001b[0m\u001b[0m\n\u001b[1;32m      4\u001b[0m     \u001b[0mmy_sum\u001b[0m \u001b[0;34m=\u001b[0m \u001b[0;36m0.0\u001b[0m\u001b[0;34m\u001b[0m\u001b[0;34m\u001b[0m\u001b[0m\n\u001b[1;32m      5\u001b[0m     \u001b[0;32mfor\u001b[0m \u001b[0mi\u001b[0m \u001b[0;32min\u001b[0m \u001b[0mrange\u001b[0m\u001b[0;34m(\u001b[0m\u001b[0mlen\u001b[0m\u001b[0;34m(\u001b[0m\u001b[0mvector\u001b[0m\u001b[0;34m)\u001b[0m\u001b[0;34m)\u001b[0m\u001b[0;34m:\u001b[0m\u001b[0;34m\u001b[0m\u001b[0;34m\u001b[0m\u001b[0m\n",
      "\u001b[0;31mModuleNotFoundError\u001b[0m: No module named 'mpi4py'",
      "",
      "\u001b[0;31m---------------------------------------------------------------------------\u001b[0;32m\nNOTE: If your import is failing due to a missing package, you can\nmanually install dependencies using either !pip or !apt.\n\nTo view examples of installing some common dependencies, click the\n\"Open Examples\" button below.\n\u001b[0;31m---------------------------------------------------------------------------\u001b[0m\n"
     ]
    }
   ],
   "source": [
    "from mpi4py import MPI\n",
    "\n",
    "def find_sum(vector):\n",
    "    my_sum = 0.0\n",
    "    for i in range(len(vector)):\n",
    "        my_sum += vector[i]\n",
    "    return my_sum\n",
    "\n",
    "def find_maximum(vector):\n",
    "    my_max = 0.0\n",
    "    for i in range(len(vector)):\n",
    "        if vector[i] > my_max:\n",
    "            my_max = vector[i]\n",
    "    return my_max\n",
    "\n",
    "n_numbers = 1024\n",
    "\n",
    "rank = MPI.COMM_WORLD.Get_rank()\n",
    "\n",
    "my_first_number = n_numbers*rank\n",
    "\n",
    "vector = []\n",
    "for i in range(n_numbers):\n",
    "    vector.append(float(my_first_number + i))\n",
    "\n",
    "my_sum = find_sum(vector)\n",
    "print(\"The sum of the numbers is\", my_sum)\n",
    "\n",
    "my_max = find_maximum(vector)\n",
    "print(\"The largest number is\", my_max)"
   ]
  },
  {
   "cell_type": "code",
   "execution_count": null,
   "metadata": {
    "id": "lqZEikvMmDEV"
   },
   "outputs": [],
   "source": [
    "from mpi4py import MPI\n",
    "\n",
    "def find_sum(vector):\n",
    "    my_sum = 0.0\n",
    "    for i in range(len(vector)):\n",
    "        my_sum += vector[i]\n",
    "    total_sum = MPI.COMM_WORLD.allreduce(my_sum, op=MPI.SUM)\n",
    "    return total_sum\n",
    "\n",
    "def find_maximum(vector):\n",
    "    my_max = 0.0\n",
    "    for i in range(len(vector)):\n",
    "        if vector[i] > my_max:\n",
    "            my_max = vector[i]\n",
    "    global_max = MPI.COMM_WORLD.allreduce(my_max, op=MPI.MAX)\n",
    "    return global_max\n",
    "\n",
    "n_numbers = 1024\n",
    "\n",
    "rank = MPI.COMM_WORLD.Get_rank()\n",
    "\n",
    "my_first_number = n_numbers*rank\n",
    "\n",
    "vector = []\n",
    "for i in range(n_numbers):\n",
    "    vector.append(float(my_first_number + i))\n",
    "\n",
    "my_sum = find_sum(vector)\n",
    "print(\"The sum of the numbers is\", my_sum)\n",
    "\n",
    "my_max = find_maximum(vector)\n",
    "print(\"The largest number is\", my_max)"
   ]
  }
 ],
 "metadata": {
  "colab": {
   "provenance": []
  },
  "kernelspec": {
   "display_name": "Python 3 (ipykernel)",
   "language": "python",
   "name": "python3"
  },
  "language_info": {
   "codemirror_mode": {
    "name": "ipython",
    "version": 3
   },
   "file_extension": ".py",
   "mimetype": "text/x-python",
   "name": "python",
   "nbconvert_exporter": "python",
   "pygments_lexer": "ipython3",
   "version": "3.10.9"
  }
 },
 "nbformat": 4,
 "nbformat_minor": 1
}
